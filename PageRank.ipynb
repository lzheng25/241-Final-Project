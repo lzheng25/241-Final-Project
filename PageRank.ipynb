{
 "cells": [
  {
   "cell_type": "code",
   "execution_count": 133,
   "metadata": {},
   "outputs": [
    {
     "data": {
      "text/plain": [
       "PageRank (generic function with 2 methods)"
      ]
     },
     "execution_count": 133,
     "metadata": {},
     "output_type": "execute_result"
    }
   ],
   "source": [
    "using LinearAlgebra\n",
    "using Printf\n",
    "\n",
    "function PageRank(websites)\n",
    "    \n",
    "    # important variables\n",
    "    len = length(websites)  # number of websites\n",
    "    e = vec(ones(len, 1))   # vectors with 1s\n",
    "    a = vec(zeros(len, 1))  # vector with 1, will edit\n",
    "    alpha = 0.9            # teleportation constant\n",
    "    \n",
    "    # zeros(m, n) creates m x n matrix full of 0s\n",
    "    # M is square with length of number of websites\n",
    "    M = zeros(len, len)\n",
    "    \n",
    "    # go through each website\n",
    "    for j in eachindex(websites)\n",
    "        # go through each link in website\n",
    "        links = websites[j];\n",
    "        for i in links\n",
    "            # there is a link!\n",
    "            # length(j) = number of links website j has\n",
    "            M[i,j] = 1 / length(links)\n",
    "            # others left as 0 since no link\n",
    "        end\n",
    "    end\n",
    "    \n",
    "    \n",
    "    # for i in x:y loops from int x to int y with step of 1\n",
    "    for i in 1:len\n",
    "        # count(x->x==y, A) returns number of y's in A\n",
    "        if(count(x->x==0, M[:,i])) == len\n",
    "            # dangling node since col all 0s!\n",
    "            a[i] = 1\n",
    "        end \n",
    "    end\n",
    "    \n",
    "    S = M + 1/len * e * transpose(a)\n",
    "    \n",
    "    # alpha = 0.85, teleport 15% chance\n",
    "    G = alpha * S + (1 - alpha) * 1/len * e * transpose(e) \n",
    "    \n",
    "    \n",
    "#     # N(G - 1I) is eigenvector with eigenvalue 1\n",
    "#     # I dimensions auto scales to G\n",
    "#     N = nullspace(G - I)\n",
    "    \n",
    "#     # if any entry negative, then all entries negative\n",
    "#     for i in N\n",
    "#         if i < 0\n",
    "#             N = -N # makes N positive\n",
    "#             break\n",
    "#         end\n",
    "#     end\n",
    "    \n",
    "#     # turn from one col matrix into vector\n",
    "#     # so we can use delete function later\n",
    "#     N = vec(N)\n",
    "    \n",
    "#     original = copy(N)\n",
    "#     println(\"Rankings:\")\n",
    "#     counter = 1 # for printing rankings\n",
    "#     while !isempty(N)\n",
    "#         # findmax return 2-tuple: (value, index)\n",
    "#         a,b = findmax(N)\n",
    "#         web_num = findall(x->x==a, original)[1]\n",
    "#         print(counter, \". Website \", web_num)\n",
    "#         @printf \", (Pagerank = %.6f%s\" a \")\"\n",
    "#         println()\n",
    "#         # remove the max value to find next biggest in next loop\n",
    "#         deleteat!(N, b)\n",
    "#         counter += 1\n",
    "#     end\n",
    "    \n",
    "    epsilon = 1\n",
    "    pi = 1/len * e\n",
    "    while epsilon > 10^-8\n",
    "        pi_next = G * pi\n",
    "        epsilon = norm(pi_next - pi)\n",
    "        pi = pi_next\n",
    "    end\n",
    "    \n",
    "    original = copy(pi)\n",
    "    println(\"Rankings:\")\n",
    "    counter = 1 # for printing rankings\n",
    "    while !isempty(pi)\n",
    "        # findmax return 2-tuple: (value, index)\n",
    "        a,b = findmax(pi)\n",
    "        web_num = findall(x->x==a, original)[1]\n",
    "        original[web_num] = 0\n",
    "        print(counter, \". Website \", web_num)\n",
    "        @printf \", (Pagerank = %.5f%s\" a \")\"\n",
    "        println()\n",
    "        # remove the max value to find next biggest in next loop\n",
    "        deleteat!(pi, b)\n",
    "        counter += 1\n",
    "    end\n",
    "    \n",
    "    return G\n",
    "    \n",
    "end\n"
   ]
  },
  {
   "cell_type": "code",
   "execution_count": 134,
   "metadata": {},
   "outputs": [
    {
     "data": {
      "text/plain": [
       "4-element Vector{Array}:\n",
       " [2, 3, 4]\n",
       " [3, 4]\n",
       " [4]\n",
       " [1, 2, 3]"
      ]
     },
     "execution_count": 134,
     "metadata": {},
     "output_type": "execute_result"
    }
   ],
   "source": [
    "# websites = Array[[2,3,4],[4,5],[4],[2,3],[1,2,3,4]]\n",
    "websites = Array[[2,3,4],[3,4],[4],[1,2,3]]\n",
    "# book = [[2,3],[],[1,2,5],[5,6],[4,6],[4]]"
   ]
  },
  {
   "cell_type": "code",
   "execution_count": 135,
   "metadata": {},
   "outputs": [
    {
     "name": "stdout",
     "output_type": "stream",
     "text": [
      "Rankings:\n",
      "1. Website 4, (Pagerank = 0.39697)\n",
      "2. Website 3, (Pagerank = 0.27161)\n",
      "3. Website 2, (Pagerank = 0.18732)\n",
      "4. Website 1, (Pagerank = 0.14409)\n"
     ]
    },
    {
     "data": {
      "text/plain": [
       "4×4 Matrix{Float64}:\n",
       " 0.025  0.025  0.025  0.325\n",
       " 0.325  0.025  0.025  0.325\n",
       " 0.325  0.475  0.025  0.325\n",
       " 0.325  0.475  0.925  0.025"
      ]
     },
     "execution_count": 135,
     "metadata": {},
     "output_type": "execute_result"
    }
   ],
   "source": [
    "G = PageRank(websites)"
   ]
  },
  {
   "cell_type": "code",
   "execution_count": 126,
   "metadata": {},
   "outputs": [
    {
     "data": {
      "text/plain": [
       "5-element Vector{Float64}:\n",
       " 0.04768930353655891\n",
       " 0.229030158385767\n",
       " 0.22903015838576693\n",
       " 0.37118680841831186\n",
       " 0.12306357127359517"
      ]
     },
     "execution_count": 126,
     "metadata": {},
     "output_type": "execute_result"
    }
   ],
   "source": [
    "n = vec(nullspace(G - I))\n",
    "total = 0\n",
    "for t in eachindex(n)\n",
    "    total += n[t]\n",
    "end\n",
    "n = n / total"
   ]
  },
  {
   "cell_type": "code",
   "execution_count": 145,
   "metadata": {},
   "outputs": [
    {
     "data": {
      "text/plain": [
       "PageRank (generic function with 2 methods)"
      ]
     },
     "execution_count": 145,
     "metadata": {},
     "output_type": "execute_result"
    }
   ],
   "source": [
    "using LinearAlgebra\n",
    "\n",
    "function PageRank(websites, links)\n",
    "    \n",
    "    # important variables\n",
    "    len = length(websites)  # number of websites\n",
    "    e = vec(ones(len, 1))   # vectors with 1s\n",
    "    a = vec(zeros(len, 1))  # vector with 1, will edit\n",
    "    alpha = 0.85            # teleportation constant\n",
    "    \n",
    "    # zeros(m, n) creates m x n matrix full of 0s\n",
    "    # M is square with length of number of websites\n",
    "    M = zeros(len, len)\n",
    "    \n",
    "    # go through each pair of links\n",
    "    # links has 2 columns\n",
    "    # each row represents a page in col 1 that links to page in col 2\n",
    "    for j in eachindex(links[:,1])\n",
    "        # go through each link in website\n",
    "        web_from = links[j,1]\n",
    "        web_to = parse(Int32, links[j,2])\n",
    "        # link from web_from to web_to\n",
    "        M[web_to, web_from] = 1 / count(x->x==web_from, links[:,1])\n",
    "    end\n",
    "    \n",
    "    \n",
    "    # for i in x:y loops from int x to int y with step of 1\n",
    "    for i in 1:len\n",
    "        # count(x->x==y, A) returns number of y's in A\n",
    "        if(count(x->x==0, M[:,i])) == len\n",
    "            # dangling node since col all 0s!\n",
    "            a[i] = 1\n",
    "        end \n",
    "    end\n",
    "    \n",
    "    S = M + 1/len * e * transpose(a)\n",
    "    \n",
    "    # alpha = 0.85, teleport 15% chance\n",
    "    G = alpha * S + (1 - alpha) * 1/len * e * transpose(e) \n",
    "    \n",
    "    epsilon = 1\n",
    "    pi = 1/len * e\n",
    "    while epsilon > 10^-8\n",
    "        pi_next = G * pi\n",
    "        epsilon = norm(pi_next - pi)\n",
    "        pi = pi_next\n",
    "    end\n",
    "    \n",
    "    original = copy(pi)\n",
    "    println(\"Rankings:\")\n",
    "    counter = 1 # for printing rankings\n",
    "    while !isempty(pi)\n",
    "        # findmax return 2-tuple: (value, index)\n",
    "        a,b = findmax(pi)\n",
    "        web_num = findall(x->x==a, original)[1]\n",
    "        original[web_num] = 0\n",
    "        print(counter, \". Website \", web_num)\n",
    "        @printf \", (Pagerank = %.5f%s\" a \")\"\n",
    "        println()\n",
    "        println(\"      \", webpages[web_num])\n",
    "        # remove the max value to find next biggest in next loop\n",
    "        deleteat!(pi, b)\n",
    "        counter += 1\n",
    "        if counter == 11\n",
    "            break\n",
    "        end\n",
    "    end\n",
    "    \n",
    "    return G\n",
    "    \n",
    "end\n"
   ]
  },
  {
   "cell_type": "code",
   "execution_count": 79,
   "metadata": {},
   "outputs": [
    {
     "data": {
      "text/plain": [
       "4-element Vector{Array}:\n",
       " [2, 3]\n",
       " [1, 3, 4]\n",
       " [2, 4]\n",
       " Any[]"
      ]
     },
     "execution_count": 79,
     "metadata": {},
     "output_type": "execute_result"
    }
   ],
   "source": [
    "web = Array[[2,3],[1,3,4],[2,4],[]]"
   ]
  },
  {
   "cell_type": "code",
   "execution_count": 80,
   "metadata": {},
   "outputs": [
    {
     "name": "stdout",
     "output_type": "stream",
     "text": [
      "Rankings:\n",
      "1. Website 4\n",
      "2. Website 2\n",
      "3. Website 3\n",
      "4. Website 1\n"
     ]
    },
    {
     "data": {
      "text/plain": [
       "4×4 Matrix{Float64}:\n",
       " 0.0375  0.320833  0.0375  0.25\n",
       " 0.4625  0.0375    0.4625  0.25\n",
       " 0.4625  0.320833  0.0375  0.25\n",
       " 0.0375  0.320833  0.4625  0.25"
      ]
     },
     "execution_count": 80,
     "metadata": {},
     "output_type": "execute_result"
    }
   ],
   "source": [
    "S = PageRank(web)"
   ]
  },
  {
   "cell_type": "code",
   "execution_count": 84,
   "metadata": {},
   "outputs": [
    {
     "data": {
      "text/plain": [
       "4×1 Matrix{Float64}:\n",
       " -0.3510967079597246\n",
       " -0.5555421448836748\n",
       " -0.5003128088426081\n",
       " -0.5637296517178335"
      ]
     },
     "execution_count": 84,
     "metadata": {},
     "output_type": "execute_result"
    }
   ],
   "source": [
    "nullspace(S - I)"
   ]
  },
  {
   "cell_type": "code",
   "execution_count": 524,
   "metadata": {},
   "outputs": [
    {
     "data": {
      "text/plain": [
       "(-0.25175440748900685, 1)"
      ]
     },
     "execution_count": 524,
     "metadata": {},
     "output_type": "execute_result"
    }
   ],
   "source": [
    "a,b = findmax(vec(N))"
   ]
  },
  {
   "cell_type": "code",
   "execution_count": 498,
   "metadata": {},
   "outputs": [
    {
     "data": {
      "text/plain": [
       "10.0"
      ]
     },
     "execution_count": 498,
     "metadata": {},
     "output_type": "execute_result"
    }
   ],
   "source": [
    "N[b]"
   ]
  },
  {
   "cell_type": "code",
   "execution_count": 512,
   "metadata": {},
   "outputs": [
    {
     "data": {
      "text/plain": [
       "4-element Vector{Int64}:\n",
       " 1\n",
       " 2\n",
       " 3\n",
       " 4"
      ]
     },
     "execution_count": 512,
     "metadata": {},
     "output_type": "execute_result"
    }
   ],
   "source": [
    "v = [1 2 3 4]\n",
    "v = vec(v)"
   ]
  },
  {
   "cell_type": "code",
   "execution_count": 513,
   "metadata": {},
   "outputs": [
    {
     "data": {
      "text/plain": [
       "3-element Vector{Int64}:\n",
       " 1\n",
       " 3\n",
       " 4"
      ]
     },
     "execution_count": 513,
     "metadata": {},
     "output_type": "execute_result"
    }
   ],
   "source": [
    "deleteat!(v, 2)"
   ]
  },
  {
   "cell_type": "code",
   "execution_count": 39,
   "metadata": {},
   "outputs": [
    {
     "data": {
      "text/plain": [
       "4-element Vector{Int64}:\n",
       " 1\n",
       " 2\n",
       " 2\n",
       " 4"
      ]
     },
     "execution_count": 39,
     "metadata": {},
     "output_type": "execute_result"
    }
   ],
   "source": [
    "r = vec([1 2 2 4])"
   ]
  },
  {
   "cell_type": "code",
   "execution_count": 40,
   "metadata": {},
   "outputs": [
    {
     "data": {
      "text/plain": [
       "1-element Vector{Int64}:\n",
       " 1"
      ]
     },
     "execution_count": 40,
     "metadata": {},
     "output_type": "execute_result"
    }
   ],
   "source": [
    "findall(x->x==1, r)"
   ]
  },
  {
   "cell_type": "code",
   "execution_count": 41,
   "metadata": {},
   "outputs": [
    {
     "data": {
      "text/plain": [
       "3"
      ]
     },
     "execution_count": 41,
     "metadata": {},
     "output_type": "execute_result"
    }
   ],
   "source": [
    "r[3]=3"
   ]
  },
  {
   "cell_type": "code",
   "execution_count": 47,
   "metadata": {},
   "outputs": [
    {
     "data": {
      "text/plain": [
       "5×5 Matrix{Float64}:\n",
       " 1.0  1.0  1.0  1.0  1.0\n",
       " 1.0  1.0  1.0  1.0  1.0\n",
       " 1.0  1.0  1.0  1.0  1.0\n",
       " 1.0  1.0  1.0  1.0  1.0\n",
       " 1.0  1.0  1.0  1.0  1.0"
      ]
     },
     "execution_count": 47,
     "metadata": {},
     "output_type": "execute_result"
    }
   ],
   "source": [
    "vec(ones(5, 1)) * transpose(vec(ones(5,1)))"
   ]
  },
  {
   "cell_type": "code",
   "execution_count": 36,
   "metadata": {},
   "outputs": [
    {
     "data": {
      "text/plain": [
       "5-element Vector{Float64}:\n",
       " 0.0\n",
       " 0.0\n",
       " 0.0\n",
       " 0.0\n",
       " 0.0"
      ]
     },
     "execution_count": 36,
     "metadata": {},
     "output_type": "execute_result"
    }
   ],
   "source": [
    "r = vec(zeros(5, 1))"
   ]
  },
  {
   "cell_type": "code",
   "execution_count": 551,
   "metadata": {},
   "outputs": [
    {
     "data": {
      "text/plain": [
       "4-element Vector{Int64}:\n",
       " 10\n",
       "  2\n",
       "  2\n",
       "  4"
      ]
     },
     "execution_count": 551,
     "metadata": {},
     "output_type": "execute_result"
    }
   ],
   "source": [
    "r"
   ]
  },
  {
   "cell_type": "code",
   "execution_count": 552,
   "metadata": {},
   "outputs": [
    {
     "data": {
      "text/plain": [
       "4-element Vector{Int64}:\n",
       " 1\n",
       " 2\n",
       " 2\n",
       " 4"
      ]
     },
     "execution_count": 552,
     "metadata": {},
     "output_type": "execute_result"
    }
   ],
   "source": [
    "R"
   ]
  },
  {
   "cell_type": "code",
   "execution_count": 11,
   "metadata": {},
   "outputs": [
    {
     "data": {
      "text/plain": [
       "6×6 Matrix{Float64}:\n",
       " 0.0166667  0.166667  0.316667   0.0166667  0.0166667  0.0166667\n",
       " 0.466667   0.166667  0.316667   0.0166667  0.0166667  0.0166667\n",
       " 0.466667   0.166667  0.0166667  0.0166667  0.0166667  0.0166667\n",
       " 0.0166667  0.166667  0.0166667  0.0166667  0.466667   0.916667\n",
       " 0.0166667  0.166667  0.316667   0.466667   0.0166667  0.0166667\n",
       " 0.0166667  0.166667  0.0166667  0.466667   0.466667   0.0166667"
      ]
     },
     "execution_count": 11,
     "metadata": {},
     "output_type": "execute_result"
    }
   ],
   "source": [
    "H = [1/60 1/6 19/60 1/60 1/60 1/60 ; \n",
    " 7/15 1/6 19/60 1/60 1/60 1/60 ; \n",
    " 7/15 1/6 1/60 1/60 1/60 1/60 ; \n",
    " 1/60 1/6 1/60 1/60 7/15 11/12 ; \n",
    " 1/60 1/6 19/60 7/15 1/60 1/60 ; \n",
    " 1/60 1/6 1/60 7/15 7/15 1/60]"
   ]
  },
  {
   "cell_type": "code",
   "execution_count": 12,
   "metadata": {},
   "outputs": [
    {
     "data": {
      "text/plain": [
       "6×6 Matrix{Float64}:\n",
       " 0.037212   0.037212   0.037212   0.037212   0.037212   0.037212\n",
       " 0.0539573  0.0539573  0.0539573  0.0539573  0.0539573  0.0539573\n",
       " 0.0415057  0.0415057  0.0415057  0.0415057  0.0415057  0.0415057\n",
       " 0.375081   0.375081   0.375081   0.375081   0.375081   0.375081\n",
       " 0.205998   0.205998   0.205998   0.205998   0.205998   0.205998\n",
       " 0.286246   0.286246   0.286246   0.286246   0.286246   0.286246"
      ]
     },
     "execution_count": 12,
     "metadata": {},
     "output_type": "execute_result"
    }
   ],
   "source": [
    "H^50"
   ]
  },
  {
   "cell_type": "code",
   "execution_count": 15,
   "metadata": {},
   "outputs": [],
   "source": [
    "using CSV\n",
    "using DataFrames"
   ]
  },
  {
   "cell_type": "code",
   "execution_count": 16,
   "metadata": {},
   "outputs": [
    {
     "name": "stderr",
     "output_type": "stream",
     "text": [
      "┌ Warning: thread = 1 warning: parsed expected 2 columns, but didn't reach end of line around data row: 2433. Parsing extra columns and widening final columnset\n",
      "└ @ CSV /Users/lucaszheng/.julia/packages/CSV/9LsxT/src/file.jl:635\n",
      "┌ Warning: thread = 1 warning: only found 2 / 4 columns around data row: 2434. Filling remaining columns with `missing`\n",
      "└ @ CSV /Users/lucaszheng/.julia/packages/CSV/9LsxT/src/file.jl:634\n",
      "┌ Warning: thread = 1 warning: only found 2 / 4 columns around data row: 2435. Filling remaining columns with `missing`\n",
      "└ @ CSV /Users/lucaszheng/.julia/packages/CSV/9LsxT/src/file.jl:634\n",
      "┌ Warning: thread = 1 warning: only found 2 / 4 columns around data row: 2436. Filling remaining columns with `missing`\n",
      "└ @ CSV /Users/lucaszheng/.julia/packages/CSV/9LsxT/src/file.jl:634\n",
      "┌ Warning: thread = 1 warning: only found 2 / 4 columns around data row: 2437. Filling remaining columns with `missing`\n",
      "└ @ CSV /Users/lucaszheng/.julia/packages/CSV/9LsxT/src/file.jl:634\n",
      "┌ Warning: thread = 1 warning: only found 2 / 4 columns around data row: 2438. Filling remaining columns with `missing`\n",
      "└ @ CSV /Users/lucaszheng/.julia/packages/CSV/9LsxT/src/file.jl:634\n",
      "┌ Warning: thread = 1 warning: only found 2 / 4 columns around data row: 2439. Filling remaining columns with `missing`\n",
      "└ @ CSV /Users/lucaszheng/.julia/packages/CSV/9LsxT/src/file.jl:634\n",
      "┌ Warning: thread = 1 warning: only found 2 / 4 columns around data row: 2440. Filling remaining columns with `missing`\n",
      "└ @ CSV /Users/lucaszheng/.julia/packages/CSV/9LsxT/src/file.jl:634\n",
      "┌ Warning: thread = 1 warning: only found 2 / 4 columns around data row: 2441. Filling remaining columns with `missing`\n",
      "└ @ CSV /Users/lucaszheng/.julia/packages/CSV/9LsxT/src/file.jl:634\n",
      "┌ Warning: thread = 1 warning: only found 2 / 4 columns around data row: 2442. Filling remaining columns with `missing`\n",
      "└ @ CSV /Users/lucaszheng/.julia/packages/CSV/9LsxT/src/file.jl:634\n",
      "┌ Warning: thread = 1 warning: only found 2 / 4 columns around data row: 2443. Filling remaining columns with `missing`\n",
      "└ @ CSV /Users/lucaszheng/.julia/packages/CSV/9LsxT/src/file.jl:634\n",
      "┌ Warning: thread = 1 warning: only found 2 / 4 columns around data row: 2444. Filling remaining columns with `missing`\n",
      "└ @ CSV /Users/lucaszheng/.julia/packages/CSV/9LsxT/src/file.jl:634\n",
      "┌ Warning: thread = 1 warning: only found 2 / 4 columns around data row: 2445. Filling remaining columns with `missing`\n",
      "└ @ CSV /Users/lucaszheng/.julia/packages/CSV/9LsxT/src/file.jl:634\n",
      "┌ Warning: thread = 1 warning: only found 2 / 4 columns around data row: 2446. Filling remaining columns with `missing`\n",
      "└ @ CSV /Users/lucaszheng/.julia/packages/CSV/9LsxT/src/file.jl:634\n",
      "┌ Warning: thread = 1 warning: only found 2 / 4 columns around data row: 2447. Filling remaining columns with `missing`\n",
      "└ @ CSV /Users/lucaszheng/.julia/packages/CSV/9LsxT/src/file.jl:634\n",
      "┌ Warning: thread = 1 warning: only found 2 / 4 columns around data row: 2448. Filling remaining columns with `missing`\n",
      "└ @ CSV /Users/lucaszheng/.julia/packages/CSV/9LsxT/src/file.jl:634\n",
      "┌ Warning: thread = 1 warning: only found 2 / 4 columns around data row: 2449. Filling remaining columns with `missing`\n",
      "└ @ CSV /Users/lucaszheng/.julia/packages/CSV/9LsxT/src/file.jl:634\n",
      "┌ Warning: thread = 1 warning: only found 2 / 4 columns around data row: 2450. Filling remaining columns with `missing`\n",
      "└ @ CSV /Users/lucaszheng/.julia/packages/CSV/9LsxT/src/file.jl:634\n",
      "┌ Warning: thread = 1 warning: only found 2 / 4 columns around data row: 2451. Filling remaining columns with `missing`\n",
      "└ @ CSV /Users/lucaszheng/.julia/packages/CSV/9LsxT/src/file.jl:634\n",
      "┌ Warning: thread = 1 warning: only found 2 / 4 columns around data row: 2452. Filling remaining columns with `missing`\n",
      "└ @ CSV /Users/lucaszheng/.julia/packages/CSV/9LsxT/src/file.jl:634\n",
      "┌ Warning: thread = 1 warning: only found 2 / 4 columns around data row: 2453. Filling remaining columns with `missing`\n",
      "└ @ CSV /Users/lucaszheng/.julia/packages/CSV/9LsxT/src/file.jl:634\n",
      "┌ Warning: thread = 1 warning: only found 2 / 4 columns around data row: 2454. Filling remaining columns with `missing`\n",
      "└ @ CSV /Users/lucaszheng/.julia/packages/CSV/9LsxT/src/file.jl:634\n",
      "┌ Warning: thread = 1 warning: only found 2 / 4 columns around data row: 2455. Filling remaining columns with `missing`\n",
      "└ @ CSV /Users/lucaszheng/.julia/packages/CSV/9LsxT/src/file.jl:634\n",
      "┌ Warning: thread = 1 warning: only found 2 / 4 columns around data row: 2456. Filling remaining columns with `missing`\n",
      "└ @ CSV /Users/lucaszheng/.julia/packages/CSV/9LsxT/src/file.jl:634\n",
      "┌ Warning: thread = 1 warning: only found 2 / 4 columns around data row: 2457. Filling remaining columns with `missing`\n",
      "└ @ CSV /Users/lucaszheng/.julia/packages/CSV/9LsxT/src/file.jl:634\n",
      "┌ Warning: thread = 1 warning: only found 2 / 4 columns around data row: 2458. Filling remaining columns with `missing`\n",
      "└ @ CSV /Users/lucaszheng/.julia/packages/CSV/9LsxT/src/file.jl:634\n",
      "┌ Warning: thread = 1 warning: only found 2 / 4 columns around data row: 2459. Filling remaining columns with `missing`\n",
      "└ @ CSV /Users/lucaszheng/.julia/packages/CSV/9LsxT/src/file.jl:634\n",
      "┌ Warning: thread = 1 warning: only found 2 / 4 columns around data row: 2460. Filling remaining columns with `missing`\n",
      "└ @ CSV /Users/lucaszheng/.julia/packages/CSV/9LsxT/src/file.jl:634\n",
      "┌ Warning: thread = 1 warning: only found 2 / 4 columns around data row: 2461. Filling remaining columns with `missing`\n",
      "└ @ CSV /Users/lucaszheng/.julia/packages/CSV/9LsxT/src/file.jl:634\n",
      "┌ Warning: thread = 1 warning: only found 2 / 4 columns around data row: 2462. Filling remaining columns with `missing`\n",
      "└ @ CSV /Users/lucaszheng/.julia/packages/CSV/9LsxT/src/file.jl:634\n",
      "┌ Warning: thread = 1 warning: only found 2 / 4 columns around data row: 2463. Filling remaining columns with `missing`\n",
      "└ @ CSV /Users/lucaszheng/.julia/packages/CSV/9LsxT/src/file.jl:634\n",
      "┌ Warning: thread = 1 warning: only found 2 / 4 columns around data row: 2464. Filling remaining columns with `missing`\n",
      "└ @ CSV /Users/lucaszheng/.julia/packages/CSV/9LsxT/src/file.jl:634\n",
      "┌ Warning: thread = 1 warning: only found 2 / 4 columns around data row: 2465. Filling remaining columns with `missing`\n",
      "└ @ CSV /Users/lucaszheng/.julia/packages/CSV/9LsxT/src/file.jl:634\n",
      "┌ Warning: thread = 1 warning: only found 2 / 4 columns around data row: 2466. Filling remaining columns with `missing`\n",
      "└ @ CSV /Users/lucaszheng/.julia/packages/CSV/9LsxT/src/file.jl:634\n",
      "┌ Warning: thread = 1 warning: only found 2 / 4 columns around data row: 2467. Filling remaining columns with `missing`\n",
      "└ @ CSV /Users/lucaszheng/.julia/packages/CSV/9LsxT/src/file.jl:634\n",
      "┌ Warning: thread = 1 warning: only found 2 / 4 columns around data row: 2468. Filling remaining columns with `missing`\n",
      "└ @ CSV /Users/lucaszheng/.julia/packages/CSV/9LsxT/src/file.jl:634\n",
      "┌ Warning: thread = 1 warning: only found 2 / 4 columns around data row: 2469. Filling remaining columns with `missing`\n",
      "└ @ CSV /Users/lucaszheng/.julia/packages/CSV/9LsxT/src/file.jl:634\n",
      "┌ Warning: thread = 1 warning: only found 2 / 4 columns around data row: 2470. Filling remaining columns with `missing`\n",
      "└ @ CSV /Users/lucaszheng/.julia/packages/CSV/9LsxT/src/file.jl:634\n",
      "┌ Warning: thread = 1 warning: only found 2 / 4 columns around data row: 2471. Filling remaining columns with `missing`\n",
      "└ @ CSV /Users/lucaszheng/.julia/packages/CSV/9LsxT/src/file.jl:634\n",
      "┌ Warning: thread = 1 warning: only found 2 / 4 columns around data row: 2472. Filling remaining columns with `missing`\n",
      "└ @ CSV /Users/lucaszheng/.julia/packages/CSV/9LsxT/src/file.jl:634\n",
      "┌ Warning: thread = 1 warning: only found 2 / 4 columns around data row: 2473. Filling remaining columns with `missing`\n",
      "└ @ CSV /Users/lucaszheng/.julia/packages/CSV/9LsxT/src/file.jl:634\n",
      "┌ Warning: thread = 1 warning: only found 2 / 4 columns around data row: 2474. Filling remaining columns with `missing`\n",
      "└ @ CSV /Users/lucaszheng/.julia/packages/CSV/9LsxT/src/file.jl:634\n",
      "┌ Warning: thread = 1 warning: only found 2 / 4 columns around data row: 2475. Filling remaining columns with `missing`\n",
      "└ @ CSV /Users/lucaszheng/.julia/packages/CSV/9LsxT/src/file.jl:634\n",
      "┌ Warning: thread = 1 warning: only found 2 / 4 columns around data row: 2476. Filling remaining columns with `missing`\n",
      "└ @ CSV /Users/lucaszheng/.julia/packages/CSV/9LsxT/src/file.jl:634\n",
      "┌ Warning: thread = 1 warning: only found 2 / 4 columns around data row: 2477. Filling remaining columns with `missing`\n",
      "└ @ CSV /Users/lucaszheng/.julia/packages/CSV/9LsxT/src/file.jl:634\n",
      "┌ Warning: thread = 1 warning: only found 2 / 4 columns around data row: 2478. Filling remaining columns with `missing`\n",
      "└ @ CSV /Users/lucaszheng/.julia/packages/CSV/9LsxT/src/file.jl:634\n",
      "┌ Warning: thread = 1 warning: only found 2 / 4 columns around data row: 2479. Filling remaining columns with `missing`\n",
      "└ @ CSV /Users/lucaszheng/.julia/packages/CSV/9LsxT/src/file.jl:634\n",
      "┌ Warning: thread = 1 warning: only found 2 / 4 columns around data row: 2480. Filling remaining columns with `missing`\n",
      "└ @ CSV /Users/lucaszheng/.julia/packages/CSV/9LsxT/src/file.jl:634\n",
      "┌ Warning: thread = 1 warning: only found 2 / 4 columns around data row: 2481. Filling remaining columns with `missing`\n",
      "└ @ CSV /Users/lucaszheng/.julia/packages/CSV/9LsxT/src/file.jl:634\n",
      "┌ Warning: thread = 1 warning: only found 2 / 4 columns around data row: 2482. Filling remaining columns with `missing`\n",
      "└ @ CSV /Users/lucaszheng/.julia/packages/CSV/9LsxT/src/file.jl:634\n",
      "┌ Warning: thread = 1 warning: only found 2 / 4 columns around data row: 2483. Filling remaining columns with `missing`\n",
      "└ @ CSV /Users/lucaszheng/.julia/packages/CSV/9LsxT/src/file.jl:634\n",
      "┌ Warning: thread = 1 warning: only found 2 / 4 columns around data row: 2484. Filling remaining columns with `missing`\n",
      "└ @ CSV /Users/lucaszheng/.julia/packages/CSV/9LsxT/src/file.jl:634\n",
      "┌ Warning: thread = 1 warning: only found 2 / 4 columns around data row: 2485. Filling remaining columns with `missing`\n",
      "└ @ CSV /Users/lucaszheng/.julia/packages/CSV/9LsxT/src/file.jl:634\n",
      "┌ Warning: thread = 1 warning: only found 2 / 4 columns around data row: 2486. Filling remaining columns with `missing`\n",
      "└ @ CSV /Users/lucaszheng/.julia/packages/CSV/9LsxT/src/file.jl:634\n",
      "┌ Warning: thread = 1 warning: only found 2 / 4 columns around data row: 2487. Filling remaining columns with `missing`\n",
      "└ @ CSV /Users/lucaszheng/.julia/packages/CSV/9LsxT/src/file.jl:634\n",
      "┌ Warning: thread = 1 warning: only found 2 / 4 columns around data row: 2488. Filling remaining columns with `missing`\n",
      "└ @ CSV /Users/lucaszheng/.julia/packages/CSV/9LsxT/src/file.jl:634\n",
      "┌ Warning: thread = 1 warning: only found 2 / 4 columns around data row: 2489. Filling remaining columns with `missing`\n",
      "└ @ CSV /Users/lucaszheng/.julia/packages/CSV/9LsxT/src/file.jl:634\n",
      "┌ Warning: thread = 1 warning: only found 2 / 4 columns around data row: 2490. Filling remaining columns with `missing`\n",
      "└ @ CSV /Users/lucaszheng/.julia/packages/CSV/9LsxT/src/file.jl:634\n",
      "┌ Warning: thread = 1 warning: only found 2 / 4 columns around data row: 2491. Filling remaining columns with `missing`\n",
      "└ @ CSV /Users/lucaszheng/.julia/packages/CSV/9LsxT/src/file.jl:634\n",
      "┌ Warning: thread = 1 warning: only found 2 / 4 columns around data row: 2492. Filling remaining columns with `missing`\n",
      "└ @ CSV /Users/lucaszheng/.julia/packages/CSV/9LsxT/src/file.jl:634\n",
      "┌ Warning: thread = 1 warning: only found 2 / 4 columns around data row: 2493. Filling remaining columns with `missing`\n",
      "└ @ CSV /Users/lucaszheng/.julia/packages/CSV/9LsxT/src/file.jl:634\n",
      "┌ Warning: thread = 1 warning: only found 2 / 4 columns around data row: 2494. Filling remaining columns with `missing`\n",
      "└ @ CSV /Users/lucaszheng/.julia/packages/CSV/9LsxT/src/file.jl:634\n",
      "┌ Warning: thread = 1 warning: only found 2 / 4 columns around data row: 2495. Filling remaining columns with `missing`\n",
      "└ @ CSV /Users/lucaszheng/.julia/packages/CSV/9LsxT/src/file.jl:634\n",
      "┌ Warning: thread = 1 warning: only found 2 / 4 columns around data row: 2496. Filling remaining columns with `missing`\n",
      "└ @ CSV /Users/lucaszheng/.julia/packages/CSV/9LsxT/src/file.jl:634\n",
      "┌ Warning: thread = 1 warning: only found 2 / 4 columns around data row: 2497. Filling remaining columns with `missing`\n",
      "└ @ CSV /Users/lucaszheng/.julia/packages/CSV/9LsxT/src/file.jl:634\n",
      "┌ Warning: thread = 1 warning: only found 2 / 4 columns around data row: 2498. Filling remaining columns with `missing`\n",
      "└ @ CSV /Users/lucaszheng/.julia/packages/CSV/9LsxT/src/file.jl:634\n",
      "┌ Warning: thread = 1 warning: only found 2 / 4 columns around data row: 2499. Filling remaining columns with `missing`\n",
      "└ @ CSV /Users/lucaszheng/.julia/packages/CSV/9LsxT/src/file.jl:634\n",
      "┌ Warning: thread = 1 warning: only found 2 / 4 columns around data row: 2500. Filling remaining columns with `missing`\n",
      "└ @ CSV /Users/lucaszheng/.julia/packages/CSV/9LsxT/src/file.jl:634\n",
      "┌ Warning: thread = 1 warning: only found 2 / 4 columns around data row: 2501. Filling remaining columns with `missing`\n",
      "└ @ CSV /Users/lucaszheng/.julia/packages/CSV/9LsxT/src/file.jl:634\n",
      "┌ Warning: thread = 1 warning: only found 2 / 4 columns around data row: 2502. Filling remaining columns with `missing`\n",
      "└ @ CSV /Users/lucaszheng/.julia/packages/CSV/9LsxT/src/file.jl:634\n",
      "┌ Warning: thread = 1 warning: only found 2 / 4 columns around data row: 2503. Filling remaining columns with `missing`\n",
      "└ @ CSV /Users/lucaszheng/.julia/packages/CSV/9LsxT/src/file.jl:634\n",
      "┌ Warning: thread = 1 warning: only found 2 / 4 columns around data row: 2504. Filling remaining columns with `missing`\n",
      "└ @ CSV /Users/lucaszheng/.julia/packages/CSV/9LsxT/src/file.jl:634\n",
      "┌ Warning: thread = 1 warning: only found 2 / 4 columns around data row: 2505. Filling remaining columns with `missing`\n",
      "└ @ CSV /Users/lucaszheng/.julia/packages/CSV/9LsxT/src/file.jl:634\n",
      "┌ Warning: thread = 1 warning: only found 2 / 4 columns around data row: 2506. Filling remaining columns with `missing`\n",
      "└ @ CSV /Users/lucaszheng/.julia/packages/CSV/9LsxT/src/file.jl:634\n",
      "┌ Warning: thread = 1 warning: only found 2 / 4 columns around data row: 2507. Filling remaining columns with `missing`\n",
      "└ @ CSV /Users/lucaszheng/.julia/packages/CSV/9LsxT/src/file.jl:634\n",
      "┌ Warning: thread = 1 warning: only found 2 / 4 columns around data row: 2508. Filling remaining columns with `missing`\n",
      "└ @ CSV /Users/lucaszheng/.julia/packages/CSV/9LsxT/src/file.jl:634\n",
      "┌ Warning: thread = 1 warning: only found 2 / 4 columns around data row: 2509. Filling remaining columns with `missing`\n",
      "└ @ CSV /Users/lucaszheng/.julia/packages/CSV/9LsxT/src/file.jl:634\n",
      "┌ Warning: thread = 1 warning: only found 2 / 4 columns around data row: 2510. Filling remaining columns with `missing`\n",
      "└ @ CSV /Users/lucaszheng/.julia/packages/CSV/9LsxT/src/file.jl:634\n",
      "┌ Warning: thread = 1 warning: only found 2 / 4 columns around data row: 2511. Filling remaining columns with `missing`\n",
      "└ @ CSV /Users/lucaszheng/.julia/packages/CSV/9LsxT/src/file.jl:634\n",
      "┌ Warning: thread = 1 warning: only found 2 / 4 columns around data row: 2512. Filling remaining columns with `missing`\n",
      "└ @ CSV /Users/lucaszheng/.julia/packages/CSV/9LsxT/src/file.jl:634\n",
      "┌ Warning: thread = 1 warning: only found 2 / 4 columns around data row: 2513. Filling remaining columns with `missing`\n",
      "└ @ CSV /Users/lucaszheng/.julia/packages/CSV/9LsxT/src/file.jl:634\n",
      "┌ Warning: thread = 1 warning: only found 2 / 4 columns around data row: 2514. Filling remaining columns with `missing`\n",
      "└ @ CSV /Users/lucaszheng/.julia/packages/CSV/9LsxT/src/file.jl:634\n",
      "┌ Warning: thread = 1 warning: only found 2 / 4 columns around data row: 2515. Filling remaining columns with `missing`\n",
      "└ @ CSV /Users/lucaszheng/.julia/packages/CSV/9LsxT/src/file.jl:634\n",
      "┌ Warning: thread = 1 warning: only found 2 / 4 columns around data row: 2516. Filling remaining columns with `missing`\n",
      "└ @ CSV /Users/lucaszheng/.julia/packages/CSV/9LsxT/src/file.jl:634\n",
      "┌ Warning: thread = 1 warning: only found 2 / 4 columns around data row: 2517. Filling remaining columns with `missing`\n",
      "└ @ CSV /Users/lucaszheng/.julia/packages/CSV/9LsxT/src/file.jl:634\n",
      "┌ Warning: thread = 1 warning: only found 2 / 4 columns around data row: 2518. Filling remaining columns with `missing`\n",
      "└ @ CSV /Users/lucaszheng/.julia/packages/CSV/9LsxT/src/file.jl:634\n",
      "┌ Warning: thread = 1 warning: only found 2 / 4 columns around data row: 2519. Filling remaining columns with `missing`\n",
      "└ @ CSV /Users/lucaszheng/.julia/packages/CSV/9LsxT/src/file.jl:634\n",
      "┌ Warning: thread = 1 warning: only found 2 / 4 columns around data row: 2520. Filling remaining columns with `missing`\n",
      "└ @ CSV /Users/lucaszheng/.julia/packages/CSV/9LsxT/src/file.jl:634\n",
      "┌ Warning: thread = 1 warning: only found 2 / 4 columns around data row: 2521. Filling remaining columns with `missing`\n",
      "└ @ CSV /Users/lucaszheng/.julia/packages/CSV/9LsxT/src/file.jl:634\n",
      "┌ Warning: thread = 1 warning: only found 2 / 4 columns around data row: 2522. Filling remaining columns with `missing`\n",
      "└ @ CSV /Users/lucaszheng/.julia/packages/CSV/9LsxT/src/file.jl:634\n",
      "┌ Warning: thread = 1 warning: only found 2 / 4 columns around data row: 2523. Filling remaining columns with `missing`\n",
      "└ @ CSV /Users/lucaszheng/.julia/packages/CSV/9LsxT/src/file.jl:634\n",
      "┌ Warning: thread = 1 warning: only found 2 / 4 columns around data row: 2524. Filling remaining columns with `missing`\n",
      "└ @ CSV /Users/lucaszheng/.julia/packages/CSV/9LsxT/src/file.jl:634\n",
      "┌ Warning: thread = 1 warning: only found 2 / 4 columns around data row: 2525. Filling remaining columns with `missing`\n",
      "└ @ CSV /Users/lucaszheng/.julia/packages/CSV/9LsxT/src/file.jl:634\n",
      "┌ Warning: thread = 1 warning: only found 2 / 4 columns around data row: 2526. Filling remaining columns with `missing`\n",
      "└ @ CSV /Users/lucaszheng/.julia/packages/CSV/9LsxT/src/file.jl:634\n",
      "┌ Warning: thread = 1 warning: only found 2 / 4 columns around data row: 2527. Filling remaining columns with `missing`\n",
      "└ @ CSV /Users/lucaszheng/.julia/packages/CSV/9LsxT/src/file.jl:634\n",
      "┌ Warning: thread = 1 warning: only found 2 / 4 columns around data row: 2528. Filling remaining columns with `missing`\n",
      "└ @ CSV /Users/lucaszheng/.julia/packages/CSV/9LsxT/src/file.jl:634\n",
      "┌ Warning: thread = 1 warning: only found 2 / 4 columns around data row: 2529. Filling remaining columns with `missing`\n",
      "└ @ CSV /Users/lucaszheng/.julia/packages/CSV/9LsxT/src/file.jl:634\n",
      "┌ Warning: thread = 1 warning: only found 2 / 4 columns around data row: 2530. Filling remaining columns with `missing`\n",
      "└ @ CSV /Users/lucaszheng/.julia/packages/CSV/9LsxT/src/file.jl:634\n",
      "┌ Warning: thread = 1 warning: only found 2 / 4 columns around data row: 2531. Filling remaining columns with `missing`\n",
      "└ @ CSV /Users/lucaszheng/.julia/packages/CSV/9LsxT/src/file.jl:634\n",
      "┌ Warning: thread = 1 warning: only found 2 / 4 columns around data row: 2532. Filling remaining columns with `missing`\n",
      "└ @ CSV /Users/lucaszheng/.julia/packages/CSV/9LsxT/src/file.jl:634\n",
      "┌ Warning: thread = 1 warning: only found 2 / 4 columns around data row: 2533. Filling remaining columns with `missing`\n",
      "└ @ CSV /Users/lucaszheng/.julia/packages/CSV/9LsxT/src/file.jl:634\n",
      "┌ Warning: thread = 1 warning: only found 2 / 4 columns around data row: 2534. Filling remaining columns with `missing`\n",
      "└ @ CSV /Users/lucaszheng/.julia/packages/CSV/9LsxT/src/file.jl:634\n",
      "┌ Warning: thread = 1: too many warnings, silencing any further warnings\n",
      "└ @ CSV /Users/lucaszheng/.julia/packages/CSV/9LsxT/src/file.jl:639\n"
     ]
    },
    {
     "data": {
      "text/html": [
       "<div class=\"data-frame\"><p>29,887 rows × 4 columns (omitted printing of 2 columns)</p><table class=\"data-frame\"><thead><tr><th></th><th>6012</th><th>23875</th></tr><tr><th></th><th title=\"Int64\">Int64</th><th title=\"String\">String</th></tr></thead><tbody><tr><th>1</th><td>1</td><td>http://www1.hollins.edu/</td></tr><tr><th>2</th><td>2</td><td>http://www.hollins.edu/</td></tr><tr><th>3</th><td>3</td><td>http://www1.hollins.edu/Docs/CompTech/Network/webmail_faq.htm</td></tr><tr><th>4</th><td>4</td><td>http://www1.hollins.edu/Docs/Forms/GetForms.htm</td></tr><tr><th>5</th><td>5</td><td>http://www1.hollins.edu/Docs/misc/travel.htm</td></tr><tr><th>6</th><td>6</td><td>http://www1.hollins.edu/Docs/GVCalendar/gvmain.htm</td></tr><tr><th>7</th><td>7</td><td>http://www1.hollins.edu/docs/events/events.htm</td></tr><tr><th>8</th><td>8</td><td>http://www1.hollins.edu/docs/comptech/mainviruses.htm</td></tr><tr><th>9</th><td>9</td><td>http://www1.hollins.edu/Docs/Academics/acad.htm</td></tr><tr><th>10</th><td>10</td><td>http://www1.hollins.edu/Docs/CompTech/Blackboard/bb_faq.htm</td></tr><tr><th>11</th><td>11</td><td>http://www1.hollins.edu/Docs/comptech/comptech.htm</td></tr><tr><th>12</th><td>12</td><td>http://www1.hollins.edu/Docs/Academics/international_programs/index.htm</td></tr><tr><th>13</th><td>13</td><td>http://www1.hollins.edu/Docs/academics/online/cyber.htm</td></tr><tr><th>14</th><td>14</td><td>http://www1.hollins.edu/Registrar/registrar.htm</td></tr><tr><th>15</th><td>15</td><td>http://www1.hollins.edu/Docs/Academics/writingcenter/wcenter.htm</td></tr><tr><th>16</th><td>16</td><td>http://www.hollins.edu/about/map/map.htm</td></tr><tr><th>17</th><td>17</td><td>http://www1.hollins.edu/Docs/SchoolServices/FoodServ/default.htm</td></tr><tr><th>18</th><td>18</td><td>http://www1.hollins.edu/Docs/CampusLife/StudentAct/studentorgs/SGA/default.html</td></tr><tr><th>19</th><td>19</td><td>http://www1.hollins.edu/docs/admin/admin.htm</td></tr><tr><th>20</th><td>20</td><td>http://www1.hollins.edu/Docs/AlumDev/Default.htm</td></tr><tr><th>21</th><td>21</td><td>http://www1.hollins.edu/docs/athletics/athletics.htm</td></tr><tr><th>22</th><td>22</td><td>http://www1.hollins.edu/Docs/CampusLife/CampusLife.htm</td></tr><tr><th>23</th><td>23</td><td>http://www1.hollins.edu/Docs/Intercultural/default.htm</td></tr><tr><th>24</th><td>24</td><td>http://www1.hollins.edu/Docs/SchoolServices/SchoolServ.htm</td></tr><tr><th>25</th><td>25</td><td>http://www1.hollins.edu/security/Default.htm</td></tr><tr><th>26</th><td>26</td><td>http://www.hollins.edu/students/index.htm</td></tr><tr><th>27</th><td>27</td><td>http://www.hollins.edu/admissions/admissions.htm</td></tr><tr><th>28</th><td>28</td><td>http://www.hollins.edu/academics/academics.htm</td></tr><tr><th>29</th><td>29</td><td>http://www.hollins.edu/grad/coedgrad.htm</td></tr><tr><th>30</th><td>30</td><td>http://www.hollins.edu/academics/internships/real_world.htm</td></tr><tr><th>&vellip;</th><td>&vellip;</td><td>&vellip;</td></tr></tbody></table></div>"
      ],
      "text/latex": [
       "\\begin{tabular}{r|ccc}\n",
       "\t& 6012 & 23875 & \\\\\n",
       "\t\\hline\n",
       "\t& Int64 & String & \\\\\n",
       "\t\\hline\n",
       "\t1 & 1 & http://www1.hollins.edu/ & $\\dots$ \\\\\n",
       "\t2 & 2 & http://www.hollins.edu/ & $\\dots$ \\\\\n",
       "\t3 & 3 & http://www1.hollins.edu/Docs/CompTech/Network/webmail\\_faq.htm & $\\dots$ \\\\\n",
       "\t4 & 4 & http://www1.hollins.edu/Docs/Forms/GetForms.htm & $\\dots$ \\\\\n",
       "\t5 & 5 & http://www1.hollins.edu/Docs/misc/travel.htm & $\\dots$ \\\\\n",
       "\t6 & 6 & http://www1.hollins.edu/Docs/GVCalendar/gvmain.htm & $\\dots$ \\\\\n",
       "\t7 & 7 & http://www1.hollins.edu/docs/events/events.htm & $\\dots$ \\\\\n",
       "\t8 & 8 & http://www1.hollins.edu/docs/comptech/mainviruses.htm & $\\dots$ \\\\\n",
       "\t9 & 9 & http://www1.hollins.edu/Docs/Academics/acad.htm & $\\dots$ \\\\\n",
       "\t10 & 10 & http://www1.hollins.edu/Docs/CompTech/Blackboard/bb\\_faq.htm & $\\dots$ \\\\\n",
       "\t11 & 11 & http://www1.hollins.edu/Docs/comptech/comptech.htm & $\\dots$ \\\\\n",
       "\t12 & 12 & http://www1.hollins.edu/Docs/Academics/international\\_programs/index.htm & $\\dots$ \\\\\n",
       "\t13 & 13 & http://www1.hollins.edu/Docs/academics/online/cyber.htm & $\\dots$ \\\\\n",
       "\t14 & 14 & http://www1.hollins.edu/Registrar/registrar.htm & $\\dots$ \\\\\n",
       "\t15 & 15 & http://www1.hollins.edu/Docs/Academics/writingcenter/wcenter.htm & $\\dots$ \\\\\n",
       "\t16 & 16 & http://www.hollins.edu/about/map/map.htm & $\\dots$ \\\\\n",
       "\t17 & 17 & http://www1.hollins.edu/Docs/SchoolServices/FoodServ/default.htm & $\\dots$ \\\\\n",
       "\t18 & 18 & http://www1.hollins.edu/Docs/CampusLife/StudentAct/studentorgs/SGA/default.html & $\\dots$ \\\\\n",
       "\t19 & 19 & http://www1.hollins.edu/docs/admin/admin.htm & $\\dots$ \\\\\n",
       "\t20 & 20 & http://www1.hollins.edu/Docs/AlumDev/Default.htm & $\\dots$ \\\\\n",
       "\t21 & 21 & http://www1.hollins.edu/docs/athletics/athletics.htm & $\\dots$ \\\\\n",
       "\t22 & 22 & http://www1.hollins.edu/Docs/CampusLife/CampusLife.htm & $\\dots$ \\\\\n",
       "\t23 & 23 & http://www1.hollins.edu/Docs/Intercultural/default.htm & $\\dots$ \\\\\n",
       "\t24 & 24 & http://www1.hollins.edu/Docs/SchoolServices/SchoolServ.htm & $\\dots$ \\\\\n",
       "\t25 & 25 & http://www1.hollins.edu/security/Default.htm & $\\dots$ \\\\\n",
       "\t26 & 26 & http://www.hollins.edu/students/index.htm & $\\dots$ \\\\\n",
       "\t27 & 27 & http://www.hollins.edu/admissions/admissions.htm & $\\dots$ \\\\\n",
       "\t28 & 28 & http://www.hollins.edu/academics/academics.htm & $\\dots$ \\\\\n",
       "\t29 & 29 & http://www.hollins.edu/grad/coedgrad.htm & $\\dots$ \\\\\n",
       "\t30 & 30 & http://www.hollins.edu/academics/internships/real\\_world.htm & $\\dots$ \\\\\n",
       "\t$\\dots$ & $\\dots$ & $\\dots$ &  \\\\\n",
       "\\end{tabular}\n"
      ],
      "text/plain": [
       "\u001b[1m29887×4 DataFrame\u001b[0m\n",
       "\u001b[1m   Row \u001b[0m│\u001b[1m 6012  \u001b[0m\u001b[1m 23875                             \u001b[0m\u001b[1m Column3   \u001b[0m\u001b[1m Column4   \u001b[0m\n",
       "\u001b[1m       \u001b[0m│\u001b[90m Int64 \u001b[0m\u001b[90m String                            \u001b[0m\u001b[90m String31? \u001b[0m\u001b[90m String31? \u001b[0m\n",
       "───────┼────────────────────────────────────────────────────────────────\n",
       "     1 │     1  http://www1.hollins.edu/          \u001b[90m missing   \u001b[0m\u001b[90m missing   \u001b[0m\n",
       "     2 │     2  http://www.hollins.edu/           \u001b[90m missing   \u001b[0m\u001b[90m missing   \u001b[0m\n",
       "     3 │     3  http://www1.hollins.edu/Docs/Com… \u001b[90m missing   \u001b[0m\u001b[90m missing   \u001b[0m\n",
       "     4 │     4  http://www1.hollins.edu/Docs/For… \u001b[90m missing   \u001b[0m\u001b[90m missing   \u001b[0m\n",
       "     5 │     5  http://www1.hollins.edu/Docs/mis… \u001b[90m missing   \u001b[0m\u001b[90m missing   \u001b[0m\n",
       "     6 │     6  http://www1.hollins.edu/Docs/GVC… \u001b[90m missing   \u001b[0m\u001b[90m missing   \u001b[0m\n",
       "     7 │     7  http://www1.hollins.edu/docs/eve… \u001b[90m missing   \u001b[0m\u001b[90m missing   \u001b[0m\n",
       "     8 │     8  http://www1.hollins.edu/docs/com… \u001b[90m missing   \u001b[0m\u001b[90m missing   \u001b[0m\n",
       "     9 │     9  http://www1.hollins.edu/Docs/Aca… \u001b[90m missing   \u001b[0m\u001b[90m missing   \u001b[0m\n",
       "    10 │    10  http://www1.hollins.edu/Docs/Com… \u001b[90m missing   \u001b[0m\u001b[90m missing   \u001b[0m\n",
       "    11 │    11  http://www1.hollins.edu/Docs/com… \u001b[90m missing   \u001b[0m\u001b[90m missing   \u001b[0m\n",
       "   ⋮   │   ⋮                    ⋮                      ⋮          ⋮\n",
       " 29878 │  6005  6004                              \u001b[90m missing   \u001b[0m\u001b[90m missing   \u001b[0m\n",
       " 29879 │  5955  6005                              \u001b[90m missing   \u001b[0m\u001b[90m missing   \u001b[0m\n",
       " 29880 │  6004  6005                              \u001b[90m missing   \u001b[0m\u001b[90m missing   \u001b[0m\n",
       " 29881 │  6002  6006                              \u001b[90m missing   \u001b[0m\u001b[90m missing   \u001b[0m\n",
       " 29882 │  6002  6007                              \u001b[90m missing   \u001b[0m\u001b[90m missing   \u001b[0m\n",
       " 29883 │  6002  6008                              \u001b[90m missing   \u001b[0m\u001b[90m missing   \u001b[0m\n",
       " 29884 │  6002  6009                              \u001b[90m missing   \u001b[0m\u001b[90m missing   \u001b[0m\n",
       " 29885 │  6002  6010                              \u001b[90m missing   \u001b[0m\u001b[90m missing   \u001b[0m\n",
       " 29886 │  6002  6011                              \u001b[90m missing   \u001b[0m\u001b[90m missing   \u001b[0m\n",
       " 29887 │  6005  6012                              \u001b[90m missing   \u001b[0m\u001b[90m missing   \u001b[0m\n",
       "\u001b[36m                                                      29866 rows omitted\u001b[0m"
      ]
     },
     "execution_count": 16,
     "metadata": {},
     "output_type": "execute_result"
    }
   ],
   "source": [
    "df = DataFrame(CSV.File(\"hollins.csv\"))"
   ]
  },
  {
   "cell_type": "code",
   "execution_count": 139,
   "metadata": {},
   "outputs": [
    {
     "data": {
      "text/plain": [
       "6012-element Vector{String}:\n",
       " \"http://www1.hollins.edu/\"\n",
       " \"http://www.hollins.edu/\"\n",
       " \"http://www1.hollins.edu/Docs/CompTech/Network/webmail_faq.htm\"\n",
       " \"http://www1.hollins.edu/Docs/Forms/GetForms.htm\"\n",
       " \"http://www1.hollins.edu/Docs/misc/travel.htm\"\n",
       " \"http://www1.hollins.edu/Docs/GVCalendar/gvmain.htm\"\n",
       " \"http://www1.hollins.edu/docs/events/events.htm\"\n",
       " \"http://www1.hollins.edu/docs/comptech/mainviruses.htm\"\n",
       " \"http://www1.hollins.edu/Docs/Academics/acad.htm\"\n",
       " \"http://www1.hollins.edu/Docs/CompTech/Blackboard/bb_faq.htm\"\n",
       " \"http://www1.hollins.edu/Docs/comptech/comptech.htm\"\n",
       " \"http://www1.hollins.edu/Docs/Academics/international_programs/index.htm\"\n",
       " \"http://www1.hollins.edu/Docs/academics/online/cyber.htm\"\n",
       " ⋮\n",
       " \"http://www1.hollins.edu/classes/comm250/valentinesr/FinalProject/head.html\"\n",
       " \"http://www1.hollins.edu/classes/comm250/valentinesr/FinalProject/menu.html\"\n",
       " \"http://www1.hollins.edu/classes/comm250/valentinesr/FinalProject/main.html\"\n",
       " \"http://www1.hollins.edu/Docs/CampusLife/StudentAct/studentorgs/Habitat/homeBuilding.htm\"\n",
       " \"http://www1.hollins.edu/Docs/CampusLife/StudentAct/studentorgs/Habitat/whatWeDo.htm\"\n",
       " \"http://www1.hollins.edu/classes/comm250/valentinesr/FinalProject/news.html\"\n",
       " \"http://www1.hollins.edu/classes/comm250/valentinesr/FinalProject/schedule.html\"\n",
       " \"http://www1.hollins.edu/classes/comm250/valentinesr/FinalProject/disabilitybasics.html\"\n",
       " \"http://www1.hollins.edu/classes/comm250/valentinesr/FinalProject/history.html\"\n",
       " \"http://www1.hollins.edu/classes/comm250/valentinesr/FinalProject/email.html\"\n",
       " \"http://www1.hollins.edu/classes/comm250/valentinesr/zine/hollinzine.html\"\n",
       " \"http://www1.hollins.edu/Docs/CampusLife/StudentAct/studentorgs/Habitat/photos.htm\""
      ]
     },
     "execution_count": 139,
     "metadata": {},
     "output_type": "execute_result"
    }
   ],
   "source": [
    "webpages = df[1:6012, 2]"
   ]
  },
  {
   "cell_type": "code",
   "execution_count": 138,
   "metadata": {},
   "outputs": [
    {
     "data": {
      "text/html": [
       "<div class=\"data-frame\"><p>23,875 rows × 2 columns</p><table class=\"data-frame\"><thead><tr><th></th><th>6012</th><th>23875</th></tr><tr><th></th><th title=\"Int64\">Int64</th><th title=\"String\">String</th></tr></thead><tbody><tr><th>1</th><td>1</td><td>2</td></tr><tr><th>2</th><td>8</td><td>2</td></tr><tr><th>3</th><td>16</td><td>2</td></tr><tr><th>4</th><td>18</td><td>2</td></tr><tr><th>5</th><td>20</td><td>2</td></tr><tr><th>6</th><td>23</td><td>2</td></tr><tr><th>7</th><td>26</td><td>2</td></tr><tr><th>8</th><td>27</td><td>2</td></tr><tr><th>9</th><td>28</td><td>2</td></tr><tr><th>10</th><td>29</td><td>2</td></tr><tr><th>11</th><td>30</td><td>2</td></tr><tr><th>12</th><td>31</td><td>2</td></tr><tr><th>13</th><td>32</td><td>2</td></tr><tr><th>14</th><td>33</td><td>2</td></tr><tr><th>15</th><td>34</td><td>2</td></tr><tr><th>16</th><td>35</td><td>2</td></tr><tr><th>17</th><td>36</td><td>2</td></tr><tr><th>18</th><td>37</td><td>2</td></tr><tr><th>19</th><td>38</td><td>2</td></tr><tr><th>20</th><td>39</td><td>2</td></tr><tr><th>21</th><td>41</td><td>2</td></tr><tr><th>22</th><td>42</td><td>2</td></tr><tr><th>23</th><td>43</td><td>2</td></tr><tr><th>24</th><td>44</td><td>2</td></tr><tr><th>25</th><td>45</td><td>2</td></tr><tr><th>26</th><td>46</td><td>2</td></tr><tr><th>27</th><td>47</td><td>2</td></tr><tr><th>28</th><td>48</td><td>2</td></tr><tr><th>29</th><td>50</td><td>2</td></tr><tr><th>30</th><td>51</td><td>2</td></tr><tr><th>&vellip;</th><td>&vellip;</td><td>&vellip;</td></tr></tbody></table></div>"
      ],
      "text/latex": [
       "\\begin{tabular}{r|cc}\n",
       "\t& 6012 & 23875\\\\\n",
       "\t\\hline\n",
       "\t& Int64 & String\\\\\n",
       "\t\\hline\n",
       "\t1 & 1 & 2 \\\\\n",
       "\t2 & 8 & 2 \\\\\n",
       "\t3 & 16 & 2 \\\\\n",
       "\t4 & 18 & 2 \\\\\n",
       "\t5 & 20 & 2 \\\\\n",
       "\t6 & 23 & 2 \\\\\n",
       "\t7 & 26 & 2 \\\\\n",
       "\t8 & 27 & 2 \\\\\n",
       "\t9 & 28 & 2 \\\\\n",
       "\t10 & 29 & 2 \\\\\n",
       "\t11 & 30 & 2 \\\\\n",
       "\t12 & 31 & 2 \\\\\n",
       "\t13 & 32 & 2 \\\\\n",
       "\t14 & 33 & 2 \\\\\n",
       "\t15 & 34 & 2 \\\\\n",
       "\t16 & 35 & 2 \\\\\n",
       "\t17 & 36 & 2 \\\\\n",
       "\t18 & 37 & 2 \\\\\n",
       "\t19 & 38 & 2 \\\\\n",
       "\t20 & 39 & 2 \\\\\n",
       "\t21 & 41 & 2 \\\\\n",
       "\t22 & 42 & 2 \\\\\n",
       "\t23 & 43 & 2 \\\\\n",
       "\t24 & 44 & 2 \\\\\n",
       "\t25 & 45 & 2 \\\\\n",
       "\t26 & 46 & 2 \\\\\n",
       "\t27 & 47 & 2 \\\\\n",
       "\t28 & 48 & 2 \\\\\n",
       "\t29 & 50 & 2 \\\\\n",
       "\t30 & 51 & 2 \\\\\n",
       "\t$\\dots$ & $\\dots$ & $\\dots$ \\\\\n",
       "\\end{tabular}\n"
      ],
      "text/plain": [
       "\u001b[1m23875×2 DataFrame\u001b[0m\n",
       "\u001b[1m   Row \u001b[0m│\u001b[1m 6012  \u001b[0m\u001b[1m 23875  \u001b[0m\n",
       "\u001b[1m       \u001b[0m│\u001b[90m Int64 \u001b[0m\u001b[90m String \u001b[0m\n",
       "───────┼───────────────\n",
       "     1 │     1  2\n",
       "     2 │     8  2\n",
       "     3 │    16  2\n",
       "     4 │    18  2\n",
       "     5 │    20  2\n",
       "     6 │    23  2\n",
       "     7 │    26  2\n",
       "     8 │    27  2\n",
       "     9 │    28  2\n",
       "    10 │    29  2\n",
       "    11 │    30  2\n",
       "   ⋮   │   ⋮      ⋮\n",
       " 23866 │  6005  6004\n",
       " 23867 │  5955  6005\n",
       " 23868 │  6004  6005\n",
       " 23869 │  6002  6006\n",
       " 23870 │  6002  6007\n",
       " 23871 │  6002  6008\n",
       " 23872 │  6002  6009\n",
       " 23873 │  6002  6010\n",
       " 23874 │  6002  6011\n",
       " 23875 │  6005  6012\n",
       "\u001b[36m     23854 rows omitted\u001b[0m"
      ]
     },
     "execution_count": 138,
     "metadata": {},
     "output_type": "execute_result"
    }
   ],
   "source": [
    "links = df[6013:end,1:2]"
   ]
  },
  {
   "cell_type": "code",
   "execution_count": 15,
   "metadata": {},
   "outputs": [
    {
     "data": {
      "text/plain": [
       "\"http://www1.hollins.edu/docs/comptech/mainviruses.htm\""
      ]
     },
     "execution_count": 15,
     "metadata": {},
     "output_type": "execute_result"
    }
   ],
   "source": [
    "webpages[links[2,2]]"
   ]
  },
  {
   "cell_type": "code",
   "execution_count": 12,
   "metadata": {},
   "outputs": [
    {
     "data": {
      "text/plain": [
       "\"2\""
      ]
     },
     "execution_count": 12,
     "metadata": {},
     "output_type": "execute_result"
    }
   ],
   "source": [
    "links[2,2]"
   ]
  },
  {
   "cell_type": "code",
   "execution_count": 19,
   "metadata": {},
   "outputs": [
    {
     "data": {
      "text/plain": [
       "\"http://www.hollins.edu/\""
      ]
     },
     "execution_count": 19,
     "metadata": {},
     "output_type": "execute_result"
    }
   ],
   "source": [
    "webpages[parse(Int32, links[2,2])]"
   ]
  },
  {
   "cell_type": "code",
   "execution_count": 29,
   "metadata": {},
   "outputs": [
    {
     "data": {
      "text/plain": [
       "23875"
      ]
     },
     "execution_count": 29,
     "metadata": {},
     "output_type": "execute_result"
    }
   ],
   "source": [
    "length(links[:,1])"
   ]
  },
  {
   "cell_type": "code",
   "execution_count": 30,
   "metadata": {},
   "outputs": [
    {
     "data": {
      "text/plain": [
       "6012"
      ]
     },
     "execution_count": 30,
     "metadata": {},
     "output_type": "execute_result"
    }
   ],
   "source": [
    "length(webpages)"
   ]
  },
  {
   "cell_type": "code",
   "execution_count": 41,
   "metadata": {},
   "outputs": [
    {
     "name": "stdout",
     "output_type": "stream",
     "text": [
      "1: 1\n",
      "2: 8\n",
      "3: 16\n"
     ]
    }
   ],
   "source": [
    "for i in eachindex(links[:,1])\n",
    "    print(i,\": \")\n",
    "    print(links[i,1])\n",
    "    println()\n",
    "    if i == 3\n",
    "        break\n",
    "    end\n",
    "end"
   ]
  },
  {
   "cell_type": "code",
   "execution_count": 146,
   "metadata": {},
   "outputs": [
    {
     "name": "stdout",
     "output_type": "stream",
     "text": [
      "Rankings:\n",
      "1. Website 2, (Pagerank = 0.01988)\n",
      "      http://www.hollins.edu/\n",
      "2. Website 37, (Pagerank = 0.00929)\n",
      "      http://www.hollins.edu/admissions/visit/visit.htm\n",
      "3. Website 38, (Pagerank = 0.00861)\n",
      "      http://www.hollins.edu/about/about_tour.htm\n",
      "4. Website 61, (Pagerank = 0.00807)\n",
      "      http://www.hollins.edu/htdig/index.html\n",
      "5. Website 52, (Pagerank = 0.00803)\n",
      "      http://www.hollins.edu/admissions/info-request/info-request.cfm\n",
      "6. Website 43, (Pagerank = 0.00716)\n",
      "      http://www.hollins.edu/admissions/apply/apply.htm\n",
      "7. Website 425, (Pagerank = 0.00658)\n",
      "      http://www.hollins.edu/academics/library/resources/web_linx.htm\n",
      "8. Website 27, (Pagerank = 0.00599)\n",
      "      http://www.hollins.edu/admissions/admissions.htm\n",
      "9. Website 28, (Pagerank = 0.00557)\n",
      "      http://www.hollins.edu/academics/academics.htm\n",
      "10. Website 4023, (Pagerank = 0.00445)\n",
      "      http://www1.hollins.edu/faculty/saloweyca/clas%20395/Sculpture/sld001.htm\n"
     ]
    },
    {
     "data": {
      "text/plain": [
       "6012×6012 Matrix{Float64}:\n",
       " 2.49501e-5  2.49501e-5  0.000166334  2.49501e-5  …  0.000166334  0.000166334\n",
       " 0.0354416   2.49501e-5  0.000166334  2.49501e-5     0.000166334  0.000166334\n",
       " 0.0354416   2.49501e-5  0.000166334  2.49501e-5     0.000166334  0.000166334\n",
       " 0.0354416   2.49501e-5  0.000166334  2.49501e-5     0.000166334  0.000166334\n",
       " 0.0354416   2.49501e-5  0.000166334  2.49501e-5     0.000166334  0.000166334\n",
       " 0.0354416   2.49501e-5  0.000166334  2.49501e-5  …  0.000166334  0.000166334\n",
       " 0.0354416   2.49501e-5  0.000166334  0.0354416      0.000166334  0.000166334\n",
       " 0.0354416   2.49501e-5  0.000166334  2.49501e-5     0.000166334  0.000166334\n",
       " 0.0354416   2.49501e-5  0.000166334  2.49501e-5     0.000166334  0.000166334\n",
       " 0.0354416   2.49501e-5  0.000166334  2.49501e-5     0.000166334  0.000166334\n",
       " 0.0354416   2.49501e-5  0.000166334  2.49501e-5  …  0.000166334  0.000166334\n",
       " 0.0354416   2.49501e-5  0.000166334  2.49501e-5     0.000166334  0.000166334\n",
       " 0.0354416   2.49501e-5  0.000166334  2.49501e-5     0.000166334  0.000166334\n",
       " ⋮                                                ⋱  ⋮            \n",
       " 2.49501e-5  2.49501e-5  0.000166334  2.49501e-5  …  0.000166334  0.000166334\n",
       " 2.49501e-5  2.49501e-5  0.000166334  2.49501e-5     0.000166334  0.000166334\n",
       " 2.49501e-5  2.49501e-5  0.000166334  2.49501e-5     0.000166334  0.000166334\n",
       " 2.49501e-5  2.49501e-5  0.000166334  2.49501e-5     0.000166334  0.000166334\n",
       " 2.49501e-5  2.49501e-5  0.000166334  2.49501e-5     0.000166334  0.000166334\n",
       " 2.49501e-5  2.49501e-5  0.000166334  2.49501e-5  …  0.000166334  0.000166334\n",
       " 2.49501e-5  2.49501e-5  0.000166334  2.49501e-5     0.000166334  0.000166334\n",
       " 2.49501e-5  2.49501e-5  0.000166334  2.49501e-5     0.000166334  0.000166334\n",
       " 2.49501e-5  2.49501e-5  0.000166334  2.49501e-5     0.000166334  0.000166334\n",
       " 2.49501e-5  2.49501e-5  0.000166334  2.49501e-5     0.000166334  0.000166334\n",
       " 2.49501e-5  2.49501e-5  0.000166334  2.49501e-5  …  0.000166334  0.000166334\n",
       " 2.49501e-5  2.49501e-5  0.000166334  2.49501e-5     0.000166334  0.000166334"
      ]
     },
     "execution_count": 146,
     "metadata": {},
     "output_type": "execute_result"
    }
   ],
   "source": [
    "Mdata = PageRank(webpages, links)"
   ]
  },
  {
   "cell_type": "code",
   "execution_count": 23,
   "metadata": {},
   "outputs": [
    {
     "data": {
      "text/plain": [
       "2.4950099800399207e-5"
      ]
     },
     "execution_count": 23,
     "metadata": {},
     "output_type": "execute_result"
    }
   ],
   "source": [
    "Mdata[1,1]"
   ]
  },
  {
   "cell_type": "code",
   "execution_count": 59,
   "metadata": {},
   "outputs": [
    {
     "data": {
      "text/plain": [
       "6012-element Vector{Float64}:\n",
       " 5.805841501884083e-5\n",
       " 0.01987875063788639\n",
       " 0.00011256798021877692\n",
       " 6.011465055054371e-5\n",
       " 6.01146505505104e-5\n",
       " 6.011465055055593e-5\n",
       " 0.0011456412977922542\n",
       " 0.00011190948769999165\n",
       " 7.467505808689235e-5\n",
       " 0.0007221123309062774\n",
       " 6.0114650550449516e-5\n",
       " 0.00034689874710901387\n",
       " 6.236512994764949e-5\n",
       " ⋮\n",
       " 8.934306299668106e-5\n",
       " 8.934306299668095e-5\n",
       " 0.00010019186350341473\n",
       " 0.0003743112242506534\n",
       " 0.00041563129446014113\n",
       " 6.890721552525817e-5\n",
       " 6.890721552525817e-5\n",
       " 6.890721552525816e-5\n",
       " 6.890721552525817e-5\n",
       " 6.890721552525867e-5\n",
       " 6.890721552525866e-5\n",
       " 0.00017582061511555892"
      ]
     },
     "execution_count": 59,
     "metadata": {},
     "output_type": "execute_result"
    }
   ],
   "source": [
    "n = vec(nullspace(Mdata - I))\n",
    "total = 0\n",
    "for t in eachindex(n)\n",
    "    total += n[t]\n",
    "end\n",
    "n = n / total"
   ]
  },
  {
   "cell_type": "code",
   "execution_count": 61,
   "metadata": {},
   "outputs": [
    {
     "name": "stdout",
     "output_type": "stream",
     "text": [
      "my number: 0.01989"
     ]
    }
   ],
   "source": [
    "epsilon = 1\n",
    "curr = 1/6012 * vec(ones(6012, 1))\n",
    "while epsilon > 10^-5\n",
    "    next = Mdata * curr\n",
    "    epsilon = norm(next - curr)\n",
    "    curr = next\n",
    "end\n",
    "@printf \"my number: %.5f\" curr[2]"
   ]
  },
  {
   "cell_type": "code",
   "execution_count": 38,
   "metadata": {},
   "outputs": [
    {
     "data": {
      "text/plain": [
       "0.028869305483107708"
      ]
     },
     "execution_count": 38,
     "metadata": {},
     "output_type": "execute_result"
    }
   ],
   "source": [
    "v = 1/6012 * vec(ones(6012, 1))\n",
    "norm(Mdata * v - v)"
   ]
  },
  {
   "cell_type": "code",
   "execution_count": 56,
   "metadata": {},
   "outputs": [
    {
     "ename": "LoadError",
     "evalue": "LoadError: MethodError: no method matching var\"@printf\"(::LineNumberNode, ::Module)\n\u001b[0mClosest candidates are:\n\u001b[0m  var\"@printf\"(::LineNumberNode, ::Module, \u001b[91m::Any\u001b[39m, \u001b[91m::Any...\u001b[39m) at /Users/julia/buildbot/worker/package_macos64/build/usr/share/julia/stdlib/v1.6/Printf/src/Printf.jl:867\nin expression starting at In[56]:2",
     "output_type": "error",
     "traceback": [
      "LoadError: MethodError: no method matching var\"@printf\"(::LineNumberNode, ::Module)\n\u001b[0mClosest candidates are:\n\u001b[0m  var\"@printf\"(::LineNumberNode, ::Module, \u001b[91m::Any\u001b[39m, \u001b[91m::Any...\u001b[39m) at /Users/julia/buildbot/worker/package_macos64/build/usr/share/julia/stdlib/v1.6/Printf/src/Printf.jl:867\nin expression starting at In[56]:2",
      "",
      "Stacktrace:",
      " [1] eval",
      "   @ ./boot.jl:360 [inlined]",
      " [2] include_string(mapexpr::typeof(REPL.softscope), mod::Module, code::String, filename::String)",
      "   @ Base ./loading.jl:1116"
     ]
    }
   ],
   "source": [
    "using Printf"
   ]
  },
  {
   "cell_type": "code",
   "execution_count": 51,
   "metadata": {},
   "outputs": [
    {
     "data": {
      "text/plain": [
       "printx (generic function with 1 method)"
      ]
     },
     "execution_count": 51,
     "metadata": {},
     "output_type": "execute_result"
    }
   ],
   "source": []
  },
  {
   "cell_type": "code",
   "execution_count": null,
   "metadata": {},
   "outputs": [],
   "source": []
  }
 ],
 "metadata": {
  "kernelspec": {
   "display_name": "Julia 1.6.4",
   "language": "julia",
   "name": "julia-1.6"
  },
  "language_info": {
   "file_extension": ".jl",
   "mimetype": "application/julia",
   "name": "julia",
   "version": "1.6.4"
  }
 },
 "nbformat": 4,
 "nbformat_minor": 4
}
